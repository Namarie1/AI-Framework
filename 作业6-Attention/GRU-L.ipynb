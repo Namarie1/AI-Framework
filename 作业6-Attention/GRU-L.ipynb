{
 "cells": [
  {
   "cell_type": "code",
   "execution_count": 1,
   "id": "233cb0f0-d821-40a1-8c2c-304a15d1a8a9",
   "metadata": {},
   "outputs": [],
   "source": [
    "import unicodedata\n",
    "import string\n",
    "import re\n",
    "import random\n",
    "import time\n",
    "import math\n",
    "import jieba\n",
    "import pandas as pd\n",
    "\n",
    "import torch\n",
    "import torch.nn as nn\n",
    "from torch import optim\n",
    "import torch.nn.functional as F\n",
    "from sklearn.model_selection import train_test_split"
   ]
  },
  {
   "cell_type": "code",
   "execution_count": 2,
   "id": "f9fc2bf3-95d0-4479-b63f-a83f8d697f94",
   "metadata": {},
   "outputs": [
    {
     "name": "stdout",
     "output_type": "stream",
     "text": [
      "USE_CUDA: True\n"
     ]
    }
   ],
   "source": [
    "USE_CUDA = torch.cuda.is_available()\n",
    "print('USE_CUDA: %s' % USE_CUDA)\n",
    "SEGMENTATION = True    # 是否分词"
   ]
  },
  {
   "cell_type": "code",
   "execution_count": 3,
   "id": "865cc9af-5571-49e0-a98b-2d368eafe65f",
   "metadata": {},
   "outputs": [],
   "source": [
    "# Turn a Unicode string to plain ASCII, thanks to http://stackoverflow.com/a/518232/2809427\n",
    "def unicode_to_ascii(s):\n",
    "    return ''.join(\n",
    "        c for c in unicodedata.normalize('NFD', s)\n",
    "        if unicodedata.category(c) != 'Mn'\n",
    "    )\n",
    "\n",
    "# Lowercase, trim, and remove non-letter characters\n",
    "def normalize_string(s):\n",
    "    s = unicode_to_ascii(s.lower().strip())\n",
    "    s = re.sub(r\"([.!?])\", r\" \\1\", s)\n",
    "    s = re.sub(r\"[^a-zA-Z\\u4e00-\\u9fa5.!?，。？]+\", r\" \", s)\n",
    "    return s"
   ]
  },
  {
   "cell_type": "code",
   "execution_count": 4,
   "id": "d9491f03-ce02-4b33-bd37-f8b1c9a4d84f",
   "metadata": {},
   "outputs": [],
   "source": [
    "SOS_token = 0\n",
    "EOS_token = 1\n",
    "UNK_token = 2\n",
    "\n",
    "class Lang(object):\n",
    "    \"\"\"\n",
    "    词表Vocabulary.\n",
    "    \"\"\"\n",
    "\n",
    "    def __init__(self, name):\n",
    "        self.name = name\n",
    "        self.word2index = {}\n",
    "        self.word2count = {}\n",
    "        self.index2word = {0: \"SOS\", 1: \"EOS\", '2': 'UNK'}\n",
    "        self.n_words = 3 # Count SOS and EOS\n",
    "      \n",
    "    def index_words(self, sentence):\n",
    "        if self.name == 'cn':\n",
    "            words = list(jieba.cut(sentence)) if SEGMENTATION else sentence    \n",
    "            for word in words:\n",
    "                self.index_word(word)\n",
    "        else:\n",
    "            words = sentence.split(' ')\n",
    "            for word in words:\n",
    "                self.index_word(word)\n",
    "\n",
    "    def index_word(self, word):\n",
    "        if word not in self.word2index:\n",
    "            self.word2index[word] = self.n_words\n",
    "            self.word2count[word] = 1\n",
    "            self.index2word[self.n_words] = word\n",
    "            self.n_words += 1\n",
    "        else:\n",
    "            self.word2count[word] += 1"
   ]
  },
  {
   "cell_type": "code",
   "execution_count": 5,
   "id": "4081ee41-9fce-45db-8b90-8e0f33ec1569",
   "metadata": {},
   "outputs": [],
   "source": [
    "def read_langs(lang1, lang2, reverse=False):\n",
    "    print(\"Reading lines...\")\n",
    "\n",
    "    # Read the file and split into lines\n",
    "    lines = open('%s-%s.txt' % (lang1, lang2)).read().strip().split('\\n')\n",
    "    \n",
    "    # Split every line into pairs and normalize\n",
    "    pairs = [[normalize_string(s) for s in l.split('\\t')] for l in lines]\n",
    "    \n",
    "    # Reverse pairs, make Lang instances\n",
    "    if reverse:\n",
    "        pairs = [list(reversed(p)) for p in pairs]\n",
    "        input_lang = Lang(lang2)\n",
    "        output_lang = Lang(lang1)\n",
    "    else:\n",
    "        input_lang = Lang(lang1)\n",
    "        output_lang = Lang(lang2)\n",
    "        \n",
    "    return input_lang, output_lang, pairs"
   ]
  },
  {
   "cell_type": "code",
   "execution_count": 6,
   "id": "c04305de-f262-4d44-b491-1f4dc6349a64",
   "metadata": {},
   "outputs": [],
   "source": [
    "MAX_LENGTH = 10\n",
    "\n",
    "def filter_pair(p):\n",
    "    return len(p[1].split(' ')) < MAX_LENGTH\n",
    "\n",
    "def filter_pairs(pairs):\n",
    "    return [pair for pair in pairs if filter_pair(pair)]"
   ]
  },
  {
   "cell_type": "code",
   "execution_count": 7,
   "id": "79122520-a762-4e9e-8f74-5f78954d242f",
   "metadata": {},
   "outputs": [
    {
     "name": "stdout",
     "output_type": "stream",
     "text": [
      "Reading lines...\n"
     ]
    },
    {
     "name": "stderr",
     "output_type": "stream",
     "text": [
      "Building prefix dict from the default dictionary ...\n",
      "Loading model from cache /tmp/jieba.cache\n"
     ]
    },
    {
     "name": "stdout",
     "output_type": "stream",
     "text": [
      "Read 90000 sentence pairs\n",
      "Trimmed to 68898 sentence pairs\n",
      "Indexing words...\n"
     ]
    },
    {
     "name": "stderr",
     "output_type": "stream",
     "text": [
      "Loading model cost 0.601 seconds.\n",
      "Prefix dict has been built successfully.\n"
     ]
    },
    {
     "name": "stdout",
     "output_type": "stream",
     "text": [
      "['我相信你。', 'i believe you .']\n"
     ]
    }
   ],
   "source": [
    "def prepare_data(lang1_name, lang2_name, reverse=False):\n",
    "    input_lang, output_lang, pairs = read_langs(lang1_name, lang2_name, reverse)\n",
    "    print(\"Read %s sentence pairs\" % len(pairs))\n",
    "    \n",
    "    pairs = filter_pairs(pairs)\n",
    "    print(\"Trimmed to %s sentence pairs\" % len(pairs))\n",
    "    \n",
    "    print(\"Indexing words...\")\n",
    "    for pair in pairs:\n",
    "        input_lang.index_words(pair[0])\n",
    "        output_lang.index_words(pair[1])\n",
    "\n",
    "    return input_lang, output_lang, pairs\n",
    "\n",
    "input_lang, output_lang, pairs = prepare_data('cn', 'eng', False)\n",
    "\n",
    "# Print an example pair\n",
    "print(random.choice(pairs))"
   ]
  },
  {
   "cell_type": "code",
   "execution_count": 8,
   "id": "4dce8645-4ce5-4c50-a96f-6a6d029c2a6d",
   "metadata": {},
   "outputs": [],
   "source": [
    "def sample_test_dataset(size=100):\n",
    "\n",
    "    with open('cn-eng-test.txt', 'w+') as f:\n",
    "        f.write('\\n'.join(['\\t'.join(pair) for pair in random.sample(pairs, k=size)]))"
   ]
  },
  {
   "cell_type": "code",
   "execution_count": 9,
   "id": "23d6f4ed-6f2f-4792-a8ce-59494ca5e2f3",
   "metadata": {},
   "outputs": [],
   "source": [
    "# Return a list of indexes, one for each word in the sentence\n",
    "def indexes_from_sentence(lang, sentence):\n",
    "    \"\"\"\n",
    "    根据词表，将句子转化成索引列表。\n",
    "\n",
    "    :reutrn list，e.g. [1, 2, 3, 4]\n",
    "    \"\"\"\n",
    "    if lang.name == 'cn':\n",
    "        words = list(jieba.cut(sentence)) if SEGMENTATION else sentence\n",
    "        return [lang.word2index[word] if word in lang.word2index else UNK_token for word in words ]\n",
    "    else:\n",
    "        words = sentence.split(' ')\n",
    "        return [lang.word2index[word] if word in lang.word2index else UNK_token for word in words]\n",
    "\n",
    "def variable_from_sentence(lang, sentence):\n",
    "    \"\"\"\n",
    "    将句子转换成Tensor.\n",
    "    \n",
    "    :return Tensor, shape(n, 1)\n",
    "    \"\"\"\n",
    "    indexes = indexes_from_sentence(lang, sentence)\n",
    "    indexes.append(EOS_token)\n",
    "    var = torch.LongTensor(indexes).view(-1, 1)\n",
    "    if USE_CUDA: var = var.cuda()\n",
    "    return var\n",
    "\n",
    "def variables_from_pair(pair):\n",
    "    \"\"\"\n",
    "    将平行语料对转化成Tensors.\n",
    "    \n",
    "    :return (input_tensor, output_tensor)\n",
    "    \"\"\"\n",
    "    input_variable = variable_from_sentence(input_lang, pair[0])\n",
    "    target_variable = variable_from_sentence(output_lang, pair[1])\n",
    "    return (input_variable, target_variable)"
   ]
  },
  {
   "cell_type": "code",
   "execution_count": 10,
   "id": "01b15da9-3e26-4895-b391-34c3631d3890",
   "metadata": {},
   "outputs": [
    {
     "name": "stdout",
     "output_type": "stream",
     "text": [
      "pair: ['三個月后，湯姆死了。', 'three months later tom was dead .']\n",
      "input_tensor shape: torch.Size([8, 1]), output_tensor shap: torch.Size([8, 1])\n",
      "input_tensor: tensor([[ 6753],\n",
      "        [  757],\n",
      "        [ 2839],\n",
      "        [   21],\n",
      "        [16436],\n",
      "        [   11],\n",
      "        [   12],\n",
      "        [    1]], device='cuda:0')\n"
     ]
    }
   ],
   "source": [
    "pair = random.choice(pairs)\n",
    "print('pair: %s' % pair)\n",
    "\n",
    "input_tensor, target_tensor = variables_from_pair(pair)\n",
    "print('input_tensor shape: %s, output_tensor shap: %s' % (input_tensor.shape, target_tensor.shape))\n",
    "print('input_tensor: %s' % input_tensor)"
   ]
  },
  {
   "cell_type": "code",
   "execution_count": 11,
   "id": "eb36b5b7-eeca-4814-bf2d-2a55cbd4a786",
   "metadata": {},
   "outputs": [],
   "source": [
    "class EncoderGRU(nn.Module):\n",
    "    \"\"\"GRU 编码器\"\"\"\n",
    "\n",
    "    def __init__(self, input_size, hidden_size, n_layers=1, bidirectional=False):\n",
    "        \"\"\"\n",
    "        初始化\n",
    "        :param input_size, 输入词表大\n",
    "        :param hidden_size, Embedding维度大小，RNN hidden大小\n",
    "        :param n_layers, RNN层数\n",
    "        \"\"\"\n",
    "        super(EncoderGRU, self).__init__()\n",
    "        \n",
    "        self.input_size = input_size\n",
    "        self.hidden_size = hidden_size\n",
    "        self.n_layers = n_layers\n",
    "        self.bidirectional = bidirectional\n",
    "        \n",
    "        self.embedding = nn.Embedding(input_size, hidden_size)\n",
    "        \n",
    "        # 用GRU替换RNN\n",
    "        # self.rnn = nn.RNN(hidden_size, hidden_size, n_layers)\n",
    "        self.rnn = nn.GRU(hidden_size, hidden_size, n_layers)\n",
    "        \n",
    "    def forward(self, word_inputs, hidden):\n",
    "        \"\"\"\n",
    "        前向传播\n",
    "        :param word_inputs, 输入序列 shape(n, 1)\n",
    "        :param hidden, 隐层 shape(seq_len*n_layers, batch_size, hidden_size)\n",
    "        :return output(seq_len, batch, num_directions*hidden_size),\n",
    "                hidden(num_layers*num_directions, hidden_size)\n",
    "        \"\"\"\n",
    "        # Note: we run this all at once (over the whole input sequence)\n",
    "        seq_len = len(word_inputs)\n",
    "        embedded = self.embedding(word_inputs).view(seq_len, 1, -1)\n",
    "        output, hidden = self.rnn(embedded, hidden)\n",
    "        return output, hidden\n",
    "\n",
    "    def init_hidden(self):\n",
    "        num_directions = 2 if self.bidirectional else 1\n",
    "        hidden = torch.zeros(self.n_layers*num_directions, 1, self.hidden_size)\n",
    "        if USE_CUDA: hidden = hidden.cuda()\n",
    "        return hidden"
   ]
  },
  {
   "cell_type": "code",
   "execution_count": 12,
   "id": "4a14d784-037a-4b90-8f8a-936752887cd9",
   "metadata": {},
   "outputs": [],
   "source": [
    "class Attention(nn.Module):\n",
    "    # LuongAttention\n",
    "    def __init__(self, hidden_size):\n",
    "        super(Attention, self).__init__()\n",
    "        self.hidden_size = hidden_size\n",
    "        self.W = nn.Linear(hidden_size, hidden_size)\n",
    "\n",
    "    def forward(self, decoder_hidden, encoder_outputs):\n",
    "        \"\"\"\n",
    "        前向传播\n",
    "        :param decoder_hidden: shape(num_layers*num_directions, batch, hidden_size)\n",
    "        :param encoder_outputs: shape(seq_len, batch, num_directions*hidden_size)\n",
    "        :return attention_weighted_encoder_output shape(num_layers, batch, hidden_size)\n",
    "        \"\"\"\n",
    "        query = decoder_hidden[-1]  # 只取decoder最后一层的隐藏状态\n",
    "        query = query.unsqueeze(0)  # 增加维度以便与encoder_outputs相加\n",
    "        energy = self.W(encoder_outputs)  # Luong attention中的score计算\n",
    "        attention = F.softmax(torch.matmul(query, energy.permute(1, 2, 0)), dim=1)\n",
    "        context = attention.permute(2, 0, 1) * encoder_outputs\n",
    "        attn_output = torch.sum(context, dim=0)\n",
    "        return attn_output.view(1, 1, -1)"
   ]
  },
  {
   "cell_type": "code",
   "execution_count": 13,
   "id": "6cb52b30-aabf-4a4d-8ef7-5460e12d1ea0",
   "metadata": {},
   "outputs": [],
   "source": [
    "class DecoderGRU(nn.Module):\n",
    "    \"\"\"注意力机制解码器\"\"\"\n",
    "\n",
    "    def __init__(self, hidden_size, output_size, n_layers=1, dropout_p=0.1):\n",
    "        super(DecoderGRU, self).__init__()\n",
    "        \n",
    "        # Keep parameters for reference\n",
    "        self.hidden_size = hidden_size\n",
    "        self.output_size = output_size\n",
    "        self.n_layers = n_layers\n",
    "        self.dropout_p = dropout_p\n",
    "        self.attention = Attention(hidden_size)\n",
    "        \n",
    "        # Define layers\n",
    "        self.embedding = nn.Embedding(output_size, hidden_size)\n",
    "\n",
    "        # 使用GRU替换RNN\n",
    "        # self.rnn = nn.RNN(hidden_size, hidden_size, n_layers, dropout=dropout_p)\n",
    "        self.rnn = nn.GRU(hidden_size, hidden_size, n_layers, dropout=dropout_p)\n",
    "        self.out = nn.Linear(hidden_size*2, output_size)\n",
    "    \n",
    "    def forward(self, word_input, last_hidden, encoder_outputs):\n",
    "        # Note: we run this one step at a time        \n",
    "        word_embedded = self.embedding(word_input).view(1, 1, -1) # S=1 x B x N\n",
    "        \n",
    "        rnn_output, hidden = self.rnn(word_embedded, last_hidden)\n",
    "        rnn_output = rnn_output.squeeze(0)\n",
    "\n",
    "        # attention weighted encoder output\n",
    "        attn_weighted_encoder_output = self.attention(hidden, encoder_outputs)\n",
    "        attn_weighted_encoder_output = attn_weighted_encoder_output.squeeze(0)\n",
    "        \n",
    "        concat_output = torch.cat([rnn_output, attn_weighted_encoder_output], dim=1)\n",
    "        output = F.log_softmax(self.out(concat_output))\n",
    "\n",
    "        return output, hidden"
   ]
  },
  {
   "cell_type": "code",
   "execution_count": 14,
   "id": "e057a582-f182-4d7f-b8dc-f962d25098b3",
   "metadata": {},
   "outputs": [],
   "source": [
    "teacher_forcing_ratio = 0.5\n",
    "clip = 5.0\n",
    "\n",
    "def train(input_variable, target_variable, \n",
    "          encoder, decoder, \n",
    "          encoder_optimizer, decoder_optimizer, \n",
    "          criterion, max_length=MAX_LENGTH):\n",
    "\n",
    "    # Zero gradients of both optimizers\n",
    "    encoder_optimizer.zero_grad()\n",
    "    decoder_optimizer.zero_grad()\n",
    "    loss = 0 # Added onto for each word\n",
    "\n",
    "    # Get size of input and target sentences\n",
    "    input_length = input_variable.size()[0]\n",
    "    target_length = target_variable.size()[0]\n",
    "\n",
    "    # Run words through encoder\n",
    "    encoder_hidden = encoder.init_hidden()\n",
    "    encoder_outputs, encoder_hidden = encoder(input_variable, encoder_hidden)\n",
    "    \n",
    "    # Prepare input and output variables\n",
    "    decoder_input = torch.LongTensor([[SOS_token]])\n",
    "    # Use last hidden state from encoder to start decoder\n",
    "    decoder_hidden = encoder_hidden\n",
    "    if USE_CUDA:\n",
    "        decoder_input = decoder_input.cuda()\n",
    "\n",
    "    # Choose whether to use teacher forcing\n",
    "    use_teacher_forcing = random.random() < teacher_forcing_ratio\n",
    "    if use_teacher_forcing:\n",
    "        \n",
    "        # Teacher forcing: Use the ground-truth target as the next input\n",
    "        for di in range(target_length):\n",
    "            decoder_output, decoder_hidden = decoder(decoder_input, decoder_hidden, encoder_outputs)\n",
    "            loss += criterion(decoder_output, target_variable[di])\n",
    "            decoder_input = target_variable[di] # Next target is next input\n",
    "\n",
    "    else:\n",
    "        # Without teacher forcing: use network's own prediction as the next input\n",
    "        for di in range(target_length):\n",
    "            decoder_output, decoder_hidden = decoder(decoder_input, decoder_hidden, encoder_outputs)\n",
    "            loss += criterion(decoder_output, target_variable[di])\n",
    "            \n",
    "            # Get most likely word index (highest value) from output\n",
    "            topv, topi = decoder_output.data.topk(1)\n",
    "            ni = topi[0][0]\n",
    "            \n",
    "            decoder_input = torch.LongTensor([[ni]]) # Chosen word is next input\n",
    "            if USE_CUDA: decoder_input = decoder_input.cuda()\n",
    "\n",
    "            # Stop at end of sentence (not necessary when using known targets)\n",
    "            if ni == EOS_token: break\n",
    "\n",
    "    # Backpropagation\n",
    "    loss.backward()\n",
    "    torch.nn.utils.clip_grad_norm(encoder.parameters(), clip)\n",
    "    torch.nn.utils.clip_grad_norm(decoder.parameters(), clip)\n",
    "    encoder_optimizer.step()\n",
    "    decoder_optimizer.step()\n",
    "    \n",
    "    return loss.item() / target_length"
   ]
  },
  {
   "cell_type": "code",
   "execution_count": 15,
   "id": "c9041dcb-c3b2-4794-a2bb-bcb01579c512",
   "metadata": {},
   "outputs": [],
   "source": [
    "def as_minutes(s):\n",
    "    m = math.floor(s / 60)\n",
    "    s -= m * 60\n",
    "    return '%dm %ds' % (m, s)\n",
    "\n",
    "def time_since(since, percent):\n",
    "    now = time.time()\n",
    "    s = now - since\n",
    "    es = s / (percent)\n",
    "    rs = es - s\n",
    "    return '%s (- %s)' % (as_minutes(s), as_minutes(rs))"
   ]
  },
  {
   "cell_type": "code",
   "execution_count": 16,
   "id": "c8e52d9d-08cc-4909-82fd-d2385eeeab25",
   "metadata": {},
   "outputs": [
    {
     "name": "stderr",
     "output_type": "stream",
     "text": [
      "/root/miniconda3/lib/python3.8/site-packages/torch/nn/modules/rnn.py:83: UserWarning: dropout option adds dropout after all but last recurrent layer, so non-zero dropout expects num_layers greater than 1, but got dropout=0.05 and num_layers=1\n",
      "  warnings.warn(\"dropout option adds dropout after all but last \"\n",
      "/tmp/ipykernel_2893/3848772925.py:34: UserWarning: Implicit dimension choice for log_softmax has been deprecated. Change the call to include dim=X as an argument.\n",
      "  output = F.log_softmax(self.out(concat_output))\n",
      "/tmp/ipykernel_2893/3644649550.py:57: UserWarning: torch.nn.utils.clip_grad_norm is now deprecated in favor of torch.nn.utils.clip_grad_norm_.\n",
      "  torch.nn.utils.clip_grad_norm(encoder.parameters(), clip)\n",
      "/tmp/ipykernel_2893/3644649550.py:58: UserWarning: torch.nn.utils.clip_grad_norm is now deprecated in favor of torch.nn.utils.clip_grad_norm_.\n",
      "  torch.nn.utils.clip_grad_norm(decoder.parameters(), clip)\n"
     ]
    },
    {
     "name": "stdout",
     "output_type": "stream",
     "text": [
      "Epoch 1000/150000, 0m 20s (- 51m 1s), 4.7820\n",
      "Epoch 2000/150000, 0m 42s (- 52m 10s), 4.3924\n",
      "Epoch 3000/150000, 1m 4s (- 52m 37s), 4.2533\n",
      "Epoch 4000/150000, 1m 26s (- 52m 29s), 4.1053\n",
      "Epoch 5000/150000, 1m 48s (- 52m 19s), 3.9428\n",
      "Epoch 6000/150000, 2m 10s (- 52m 21s), 3.9320\n",
      "Epoch 7000/150000, 2m 33s (- 52m 14s), 3.8456\n",
      "Epoch 8000/150000, 2m 55s (- 52m 2s), 3.7458\n",
      "Epoch 9000/150000, 3m 18s (- 51m 48s), 3.6809\n",
      "Epoch 10000/150000, 3m 40s (- 51m 29s), 3.5966\n",
      "Epoch 11000/150000, 4m 2s (- 51m 10s), 3.5430\n",
      "Epoch 12000/150000, 4m 25s (- 50m 49s), 3.4975\n",
      "Epoch 13000/150000, 4m 47s (- 50m 31s), 3.4589\n",
      "Epoch 14000/150000, 5m 9s (- 50m 8s), 3.3116\n",
      "Epoch 15000/150000, 5m 32s (- 49m 48s), 3.2400\n",
      "Epoch 16000/150000, 5m 54s (- 49m 27s), 3.3390\n",
      "Epoch 17000/150000, 6m 16s (- 49m 9s), 3.2568\n",
      "Epoch 18000/150000, 6m 39s (- 48m 51s), 3.2408\n",
      "Epoch 19000/150000, 7m 2s (- 48m 31s), 3.2270\n",
      "Epoch 20000/150000, 7m 24s (- 48m 11s), 3.2153\n",
      "Epoch 21000/150000, 7m 47s (- 47m 51s), 3.1149\n",
      "Epoch 22000/150000, 8m 9s (- 47m 29s), 3.1408\n",
      "Epoch 23000/150000, 8m 32s (- 47m 8s), 3.0822\n",
      "Epoch 24000/150000, 8m 54s (- 46m 48s), 3.0408\n",
      "Epoch 25000/150000, 9m 17s (- 46m 27s), 3.0419\n",
      "Epoch 26000/150000, 9m 40s (- 46m 8s), 2.9644\n",
      "Epoch 27000/150000, 10m 3s (- 45m 47s), 2.9590\n",
      "Epoch 28000/150000, 10m 25s (- 45m 27s), 3.0050\n",
      "Epoch 29000/150000, 10m 48s (- 45m 6s), 2.8440\n",
      "Epoch 30000/150000, 11m 11s (- 44m 46s), 2.9541\n",
      "Epoch 31000/150000, 11m 34s (- 44m 25s), 2.9294\n",
      "Epoch 32000/150000, 11m 57s (- 44m 5s), 2.8439\n",
      "Epoch 33000/150000, 12m 20s (- 43m 43s), 2.8449\n",
      "Epoch 34000/150000, 12m 42s (- 43m 22s), 2.8406\n",
      "Epoch 35000/150000, 13m 5s (- 43m 0s), 2.6787\n",
      "Epoch 36000/150000, 13m 28s (- 42m 38s), 2.7781\n",
      "Epoch 37000/150000, 13m 50s (- 42m 17s), 2.7693\n",
      "Epoch 38000/150000, 14m 13s (- 41m 55s), 2.7472\n",
      "Epoch 39000/150000, 14m 36s (- 41m 33s), 2.6990\n",
      "Epoch 40000/150000, 14m 58s (- 41m 11s), 2.8103\n",
      "Epoch 41000/150000, 15m 21s (- 40m 50s), 2.6549\n",
      "Epoch 42000/150000, 15m 44s (- 40m 28s), 2.6583\n",
      "Epoch 43000/150000, 16m 6s (- 40m 6s), 2.5757\n",
      "Epoch 44000/150000, 16m 29s (- 39m 44s), 2.6312\n",
      "Epoch 45000/150000, 16m 52s (- 39m 22s), 2.6376\n",
      "Epoch 46000/150000, 17m 15s (- 39m 0s), 2.6521\n",
      "Epoch 47000/150000, 17m 38s (- 38m 39s), 2.6318\n",
      "Epoch 48000/150000, 18m 1s (- 38m 17s), 2.6256\n",
      "Epoch 49000/150000, 18m 23s (- 37m 55s), 2.5418\n",
      "Epoch 50000/150000, 18m 46s (- 37m 33s), 2.5462\n",
      "Epoch 51000/150000, 19m 9s (- 37m 11s), 2.5632\n",
      "Epoch 52000/150000, 19m 32s (- 36m 49s), 2.5392\n",
      "Epoch 53000/150000, 19m 55s (- 36m 27s), 2.5154\n",
      "Epoch 54000/150000, 20m 18s (- 36m 5s), 2.4616\n",
      "Epoch 55000/150000, 20m 40s (- 35m 43s), 2.5334\n",
      "Epoch 56000/150000, 21m 3s (- 35m 21s), 2.5223\n",
      "Epoch 57000/150000, 21m 26s (- 34m 59s), 2.4885\n",
      "Epoch 58000/150000, 21m 49s (- 34m 36s), 2.4591\n",
      "Epoch 59000/150000, 22m 12s (- 34m 14s), 2.4317\n",
      "Epoch 60000/150000, 22m 35s (- 33m 52s), 2.4310\n",
      "Epoch 61000/150000, 22m 58s (- 33m 30s), 2.3805\n",
      "Epoch 62000/150000, 23m 20s (- 33m 7s), 2.4385\n",
      "Epoch 63000/150000, 23m 43s (- 32m 45s), 2.4500\n",
      "Epoch 64000/150000, 24m 5s (- 32m 23s), 2.3974\n",
      "Epoch 65000/150000, 24m 28s (- 32m 0s), 2.3902\n",
      "Epoch 66000/150000, 24m 51s (- 31m 38s), 2.3887\n",
      "Epoch 67000/150000, 25m 14s (- 31m 16s), 2.4101\n",
      "Epoch 68000/150000, 25m 37s (- 30m 54s), 2.4185\n",
      "Epoch 69000/150000, 26m 0s (- 30m 31s), 2.3057\n",
      "Epoch 70000/150000, 26m 23s (- 30m 9s), 2.3433\n",
      "Epoch 71000/150000, 26m 46s (- 29m 47s), 2.4269\n",
      "Epoch 72000/150000, 27m 8s (- 29m 24s), 2.2761\n",
      "Epoch 73000/150000, 27m 31s (- 29m 2s), 2.3026\n",
      "Epoch 74000/150000, 27m 54s (- 28m 39s), 2.3086\n",
      "Epoch 75000/150000, 28m 17s (- 28m 17s), 2.2897\n",
      "Epoch 76000/150000, 28m 40s (- 27m 55s), 2.3004\n",
      "Epoch 77000/150000, 29m 3s (- 27m 33s), 2.2661\n",
      "Epoch 78000/150000, 29m 26s (- 27m 10s), 2.2683\n",
      "Epoch 79000/150000, 29m 49s (- 26m 48s), 2.2535\n",
      "Epoch 80000/150000, 30m 12s (- 26m 26s), 2.2414\n",
      "Epoch 81000/150000, 30m 35s (- 26m 3s), 2.1843\n",
      "Epoch 82000/150000, 30m 58s (- 25m 41s), 2.1813\n",
      "Epoch 83000/150000, 31m 21s (- 25m 19s), 2.1486\n",
      "Epoch 84000/150000, 31m 44s (- 24m 56s), 2.2040\n",
      "Epoch 85000/150000, 32m 8s (- 24m 34s), 2.2759\n",
      "Epoch 86000/150000, 32m 30s (- 24m 11s), 2.1526\n",
      "Epoch 87000/150000, 32m 53s (- 23m 49s), 2.1883\n",
      "Epoch 88000/150000, 33m 16s (- 23m 26s), 2.1183\n",
      "Epoch 89000/150000, 33m 38s (- 23m 3s), 2.1383\n",
      "Epoch 90000/150000, 34m 1s (- 22m 41s), 2.1975\n",
      "Epoch 91000/150000, 34m 24s (- 22m 18s), 2.1371\n",
      "Epoch 92000/150000, 34m 47s (- 21m 55s), 2.1032\n",
      "Epoch 93000/150000, 35m 10s (- 21m 33s), 2.1168\n",
      "Epoch 94000/150000, 35m 33s (- 21m 10s), 2.0954\n",
      "Epoch 95000/150000, 35m 55s (- 20m 47s), 2.0356\n",
      "Epoch 96000/150000, 36m 18s (- 20m 25s), 2.1524\n",
      "Epoch 97000/150000, 36m 41s (- 20m 2s), 2.1001\n",
      "Epoch 98000/150000, 37m 4s (- 19m 40s), 2.1521\n",
      "Epoch 99000/150000, 37m 27s (- 19m 17s), 2.0855\n",
      "Epoch 100000/150000, 37m 50s (- 18m 55s), 2.0609\n",
      "Epoch 101000/150000, 38m 14s (- 18m 33s), 2.0286\n",
      "Epoch 102000/150000, 38m 37s (- 18m 10s), 2.1067\n",
      "Epoch 103000/150000, 39m 0s (- 17m 47s), 2.0018\n",
      "Epoch 104000/150000, 39m 23s (- 17m 25s), 1.9757\n",
      "Epoch 105000/150000, 39m 46s (- 17m 2s), 2.0677\n",
      "Epoch 106000/150000, 40m 9s (- 16m 40s), 2.0026\n",
      "Epoch 107000/150000, 40m 32s (- 16m 17s), 2.1276\n",
      "Epoch 108000/150000, 40m 55s (- 15m 55s), 1.9599\n",
      "Epoch 109000/150000, 41m 18s (- 15m 32s), 1.9509\n",
      "Epoch 110000/150000, 41m 41s (- 15m 9s), 1.9787\n",
      "Epoch 111000/150000, 42m 4s (- 14m 47s), 2.0808\n",
      "Epoch 112000/150000, 42m 27s (- 14m 24s), 1.9733\n",
      "Epoch 113000/150000, 42m 50s (- 14m 1s), 1.9481\n",
      "Epoch 114000/150000, 43m 13s (- 13m 39s), 2.0291\n",
      "Epoch 115000/150000, 43m 36s (- 13m 16s), 1.9323\n",
      "Epoch 116000/150000, 43m 59s (- 12m 53s), 1.9361\n",
      "Epoch 117000/150000, 44m 22s (- 12m 30s), 2.0038\n",
      "Epoch 118000/150000, 44m 45s (- 12m 8s), 1.9354\n",
      "Epoch 119000/150000, 45m 8s (- 11m 45s), 1.8538\n",
      "Epoch 120000/150000, 45m 31s (- 11m 22s), 1.9529\n",
      "Epoch 121000/150000, 45m 54s (- 11m 0s), 1.9890\n",
      "Epoch 122000/150000, 46m 18s (- 10m 37s), 2.0023\n",
      "Epoch 123000/150000, 46m 41s (- 10m 14s), 1.9407\n",
      "Epoch 124000/150000, 47m 4s (- 9m 52s), 1.9016\n",
      "Epoch 125000/150000, 47m 27s (- 9m 29s), 1.8359\n",
      "Epoch 126000/150000, 47m 50s (- 9m 6s), 1.9215\n",
      "Epoch 127000/150000, 48m 13s (- 8m 44s), 1.8320\n",
      "Epoch 128000/150000, 48m 36s (- 8m 21s), 1.8734\n",
      "Epoch 129000/150000, 48m 58s (- 7m 58s), 1.9488\n",
      "Epoch 130000/150000, 49m 21s (- 7m 35s), 1.9589\n",
      "Epoch 131000/150000, 49m 44s (- 7m 12s), 1.9535\n",
      "Epoch 132000/150000, 50m 8s (- 6m 50s), 1.8357\n",
      "Epoch 133000/150000, 50m 31s (- 6m 27s), 1.8649\n",
      "Epoch 134000/150000, 50m 54s (- 6m 4s), 1.8053\n",
      "Epoch 135000/150000, 51m 17s (- 5m 41s), 1.8741\n",
      "Epoch 136000/150000, 51m 40s (- 5m 19s), 1.8114\n",
      "Epoch 137000/150000, 52m 3s (- 4m 56s), 1.7909\n",
      "Epoch 138000/150000, 52m 26s (- 4m 33s), 1.7783\n",
      "Epoch 139000/150000, 52m 49s (- 4m 10s), 1.7696\n",
      "Epoch 140000/150000, 53m 12s (- 3m 48s), 1.8057\n",
      "Epoch 141000/150000, 53m 35s (- 3m 25s), 1.7335\n",
      "Epoch 142000/150000, 53m 58s (- 3m 2s), 1.8173\n",
      "Epoch 143000/150000, 54m 22s (- 2m 39s), 1.8535\n",
      "Epoch 144000/150000, 54m 44s (- 2m 16s), 1.7667\n",
      "Epoch 145000/150000, 55m 7s (- 1m 54s), 1.8032\n",
      "Epoch 146000/150000, 55m 31s (- 1m 31s), 1.7802\n",
      "Epoch 147000/150000, 55m 53s (- 1m 8s), 1.7460\n",
      "Epoch 148000/150000, 56m 16s (- 0m 45s), 1.7615\n",
      "Epoch 149000/150000, 56m 39s (- 0m 22s), 1.7480\n",
      "Epoch 150000/150000, 57m 3s (- 0m 0s), 1.8252\n"
     ]
    }
   ],
   "source": [
    "hidden_size = 500\n",
    "n_layers = 1\n",
    "dropout_p = 0.05\n",
    "n_epochs = 150000\n",
    "\n",
    "# Initialize models\n",
    "encoder = EncoderGRU(input_lang.n_words, hidden_size, n_layers)\n",
    "decoder = DecoderGRU(hidden_size, output_lang.n_words, n_layers, dropout_p=dropout_p)\n",
    "\n",
    "# Move models to GPU\n",
    "if USE_CUDA:\n",
    "    encoder.cuda()\n",
    "    decoder.cuda()\n",
    "\n",
    "# Initialize optimizers and criterion\n",
    "learning_rate = 0.0001\n",
    "encoder_optimizer = optim.Adam(encoder.parameters(), lr=learning_rate)\n",
    "decoder_optimizer = optim.Adam(decoder.parameters(), lr=learning_rate)\n",
    "criterion = nn.NLLLoss()\n",
    "\n",
    "# Configuring training\n",
    "plot_every = 200\n",
    "print_every = 1000\n",
    "\n",
    "# Keep track of time elapsed and running averages\n",
    "start = time.time()\n",
    "plot_losses = []\n",
    "print_loss_total = 0 # Reset every print_every\n",
    "plot_loss_total = 0 # Reset every plot_every\n",
    "\n",
    "# Begin!\n",
    "for epoch in range(1, n_epochs + 1):\n",
    "    \n",
    "    # Get training data for this cycle\n",
    "    training_pair = variables_from_pair(random.choice(pairs))\n",
    "    input_variable = training_pair[0]\n",
    "    target_variable = training_pair[1]\n",
    "\n",
    "    # Run the train function\n",
    "    loss = train(input_variable, target_variable, encoder, decoder, \n",
    "                 encoder_optimizer, decoder_optimizer, criterion)\n",
    "\n",
    "    # Keep track of loss\n",
    "    print_loss_total += loss\n",
    "    plot_loss_total += loss\n",
    "\n",
    "    if epoch == 0: continue\n",
    "\n",
    "    if epoch % print_every == 0:\n",
    "        print_loss_avg = print_loss_total / print_every\n",
    "        print_loss_total = 0\n",
    "        print_summary = 'Epoch %d/%d, %s, %.4f' % (epoch, n_epochs, time_since(start, epoch / n_epochs), \n",
    "                                                   print_loss_avg)\n",
    "        print(print_summary)\n",
    "\n",
    "    if epoch % plot_every == 0:\n",
    "        plot_loss_avg = plot_loss_total / plot_every\n",
    "        plot_losses.append(plot_loss_avg)\n",
    "        plot_loss_total = 0.05"
   ]
  },
  {
   "cell_type": "code",
   "execution_count": 17,
   "id": "55dad5a4-ae25-41c0-ad69-09b4dfcdceaf",
   "metadata": {},
   "outputs": [
    {
     "data": {
      "text/plain": [
       "<Figure size 432x288 with 0 Axes>"
      ]
     },
     "metadata": {},
     "output_type": "display_data"
    },
    {
     "data": {
      "image/png": "[encoded data removed]",
      "text/plain": [
       "<Figure size 432x288 with 1 Axes>"
      ]
     },
     "metadata": {
      "needs_background": "light"
     },
     "output_type": "display_data"
    }
   ],
   "source": [
    "import matplotlib.pyplot as plt\n",
    "import matplotlib.ticker as ticker\n",
    "import numpy as np\n",
    "%matplotlib inline\n",
    "\n",
    "def show_plot(points):\n",
    "    plt.figure()\n",
    "    fig, ax = plt.subplots()\n",
    "    loc = ticker.MultipleLocator(base=0.2) # put ticks at regular intervals\n",
    "    ax.yaxis.set_major_locator(loc)\n",
    "    plt.plot(points)\n",
    "\n",
    "show_plot(plot_losses)"
   ]
  },
  {
   "cell_type": "code",
   "execution_count": 18,
   "id": "6326a085-969f-48ff-bf75-407c4501310f",
   "metadata": {},
   "outputs": [],
   "source": [
    "def evaluate(sentence, max_length=MAX_LENGTH):\n",
    "    input_variable = variable_from_sentence(input_lang, sentence)\n",
    "    input_length = input_variable.size()[0]\n",
    "    \n",
    "    # Run through encoder\n",
    "    encoder_hidden = encoder.init_hidden()\n",
    "    encoder_outputs, encoder_hidden = encoder(input_variable, encoder_hidden)\n",
    "\n",
    "    # Create starting vectors for decoder\n",
    "    decoder_input = torch.LongTensor([[SOS_token]]) # SOS\n",
    "    if USE_CUDA:\n",
    "        decoder_input = decoder_input.cuda()\n",
    "\n",
    "    decoder_hidden = encoder_hidden\n",
    "    \n",
    "    decoded_words = []\n",
    "    decoder_attentions = torch.zeros(max_length, max_length)\n",
    "    \n",
    "    # Run through decoder\n",
    "    for di in range(max_length):\n",
    "        decoder_output, decoder_hidden = decoder(decoder_input, decoder_hidden, encoder_outputs)\n",
    "        # Choose top word from output\n",
    "        topv, topi = decoder_output.data.topk(1)\n",
    "        ni = topi[0][0]\n",
    "        if ni == EOS_token:\n",
    "            decoded_words.append('<EOS>')\n",
    "            break\n",
    "        else:\n",
    "            decoded_words.append(output_lang.index2word[ni.item()])\n",
    "            \n",
    "        # Next input is chosen word\n",
    "        decoder_input = torch.LongTensor([[ni]])\n",
    "        if USE_CUDA: decoder_input = decoder_input.cuda()\n",
    "    \n",
    "    return decoded_words"
   ]
  },
  {
   "cell_type": "code",
   "execution_count": 19,
   "id": "3024e586-db16-453b-801e-12feaf930e38",
   "metadata": {},
   "outputs": [],
   "source": [
    "def evaluate_randomly():\n",
    "    pair = random.choice(pairs)\n",
    "    \n",
    "    output_words = evaluate(pair[0])\n",
    "    output_sentence = ' '.join(output_words)\n",
    "    \n",
    "    print('>', pair[0])\n",
    "    print('=', pair[1])\n",
    "    print('<', output_sentence)\n",
    "    print('')"
   ]
  },
  {
   "cell_type": "code",
   "execution_count": 20,
   "id": "e45951d4-b509-4b90-9663-22b334a805f6",
   "metadata": {},
   "outputs": [
    {
     "name": "stdout",
     "output_type": "stream",
     "text": [
      "> 电视正在播足球赛。\n",
      "= the football game is now on the air .\n",
      "< the football game is on the the . . <EOS>\n",
      "\n"
     ]
    },
    {
     "name": "stderr",
     "output_type": "stream",
     "text": [
      "/tmp/ipykernel_2893/3848772925.py:34: UserWarning: Implicit dimension choice for log_softmax has been deprecated. Change the call to include dim=X as an argument.\n",
      "  output = F.log_softmax(self.out(concat_output))\n"
     ]
    }
   ],
   "source": [
    "evaluate_randomly()"
   ]
  },
  {
   "cell_type": "code",
   "execution_count": 21,
   "id": "f0c5f418-1426-48b7-85fc-a387f563e7e5",
   "metadata": {},
   "outputs": [
    {
     "name": "stderr",
     "output_type": "stream",
     "text": [
      "/tmp/ipykernel_2893/3848772925.py:34: UserWarning: Implicit dimension choice for log_softmax has been deprecated. Change the call to include dim=X as an argument.\n",
      "  output = F.log_softmax(self.out(concat_output))\n"
     ]
    },
    {
     "data": {
      "text/plain": [
       "'life is fun . <EOS>'"
      ]
     },
     "execution_count": 21,
     "metadata": {},
     "output_type": "execute_result"
    }
   ],
   "source": [
    "' '.join(evaluate('人生是有趣的。'))"
   ]
  },
  {
   "cell_type": "code",
   "execution_count": 22,
   "id": "8a2bdac9-5e5e-49e6-9ab4-0322b605b78b",
   "metadata": {},
   "outputs": [],
   "source": [
    "import collections\n",
    "from torchtext.data.metrics import bleu_score\n",
    "\n",
    "\n",
    "# 读取测试数据集\n",
    "with open('cn-eng-test.txt') as f:\n",
    "    lines = f.read().strip().split('\\n')\n",
    "    \n",
    "    test_pairs = [[normalize_string(s) for s in l.split('\\t')] for l in lines]\n",
    "\n",
    "\n",
    "\n",
    "test_pairs_dict = collections.defaultdict(lambda : [])\n",
    "\n",
    "for pair in test_pairs:\n",
    "    test_pairs_dict[pair[0]].append(pair[1].split(' '))\n",
    "\n",
    "\n",
    "def evaluate_bleu_score():\n",
    "    candicates = []\n",
    "    references = []\n",
    "\n",
    "    for i, pair in enumerate(test_pairs_dict.items(), start=1):\n",
    "        candicate = evaluate(pair[0])\n",
    "        if candicate[-1] == '<EOS>':\n",
    "            candicate.pop(-1)\n",
    "        candicates.append(candicate)\n",
    "        references.append(pair[1])\n",
    "    \n",
    "    score = bleu_score(candicates, references)\n",
    "    return score"
   ]
  },
  {
   "cell_type": "code",
   "execution_count": 23,
   "id": "7ceb9ede-06be-495e-87f6-300e610b6504",
   "metadata": {},
   "outputs": [
    {
     "name": "stderr",
     "output_type": "stream",
     "text": [
      "/tmp/ipykernel_2893/3848772925.py:34: UserWarning: Implicit dimension choice for log_softmax has been deprecated. Change the call to include dim=X as an argument.\n",
      "  output = F.log_softmax(self.out(concat_output))\n"
     ]
    },
    {
     "name": "stdout",
     "output_type": "stream",
     "text": [
      "test dataset bleu score: 0.3307007538766883\n"
     ]
    }
   ],
   "source": [
    "print('test dataset bleu score: %s' % evaluate_bleu_score())"
   ]
  },
  {
   "cell_type": "code",
   "execution_count": 24,
   "id": "409fa2af-05fd-4c9e-8ba8-7dd7ac230234",
   "metadata": {},
   "outputs": [],
   "source": [
    "def predict(filepath):\n",
    "    \"\"\"预测\"\"\"\n",
    "    with open('test.txt') as f:\n",
    "        sentences =  [line.strip() for line in f.readlines()]\n",
    "\n",
    "    output_sentences = []\n",
    "    for sentence in sentences:\n",
    "        output_sentence = ' '.join(evaluate(sentence))\n",
    "        output_sentences.append(output_sentence.strip('<EOS>'))\n",
    "    \n",
    "    with open(filepath, 'w') as f:\n",
    "        f.write('\\n'.join(output_sentences))"
   ]
  },
  {
   "cell_type": "code",
   "execution_count": 25,
   "id": "8db6af12-1d84-454e-be62-47fc58069528",
   "metadata": {},
   "outputs": [
    {
     "name": "stderr",
     "output_type": "stream",
     "text": [
      "/tmp/ipykernel_2893/3848772925.py:34: UserWarning: Implicit dimension choice for log_softmax has been deprecated. Change the call to include dim=X as an argument.\n",
      "  output = F.log_softmax(self.out(concat_output))\n"
     ]
    }
   ],
   "source": [
    "predict('result-attention.txt')"
   ]
  },
  {
   "cell_type": "code",
   "execution_count": null,
   "id": "05cd9011-7c3d-43f7-bc3b-4a6cc4c7c5b0",
   "metadata": {},
   "outputs": [],
   "source": []
  },
  {
   "cell_type": "code",
   "execution_count": null,
   "id": "27f9e89d-3f36-48c2-b340-d4d585e3f442",
   "metadata": {},
   "outputs": [],
   "source": []
  },
  {
   "cell_type": "code",
   "execution_count": null,
   "id": "b0c4801d-0d5c-4b79-b13f-5afd1f022ce1",
   "metadata": {},
   "outputs": [],
   "source": []
  },
  {
   "cell_type": "code",
   "execution_count": null,
   "id": "5fa31519-5c58-441c-aa24-011db7f33991",
   "metadata": {},
   "outputs": [],
   "source": []
  },
  {
   "cell_type": "code",
   "execution_count": null,
   "id": "fafdddd0-0a46-41d0-bb1a-2b23543a26a2",
   "metadata": {},
   "outputs": [],
   "source": []
  }
 ],
 "metadata": {
  "kernelspec": {
   "display_name": "Python 3 (ipykernel)",
   "language": "python",
   "name": "python3"
  },
  "language_info": {
   "codemirror_mode": {
    "name": "ipython",
    "version": 3
   },
   "file_extension": ".py",
   "mimetype": "text/x-python",
   "name": "python",
   "nbconvert_exporter": "python",
   "pygments_lexer": "ipython3",
   "version": "3.8.10"
  }
 },
 "nbformat": 4,
 "nbformat_minor": 5
}
